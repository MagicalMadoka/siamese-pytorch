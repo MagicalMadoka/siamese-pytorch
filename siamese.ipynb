{
 "cells": [
  {
   "cell_type": "markdown",
   "source": [
    "克隆仓库项目"
   ],
   "metadata": {
    "collapsed": false
   },
   "id": "5357fef6b27a2b63"
  },
  {
   "cell_type": "code",
   "execution_count": 1,
   "outputs": [
    {
     "name": "stdout",
     "output_type": "stream",
     "text": [
      "Cloning into 'siamese-pytorch'...\r\n",
      "remote: Enumerating objects: 14, done.\u001B[K\r\n",
      "remote: Counting objects: 100% (14/14), done.\u001B[K\r\n",
      "remote: Compressing objects: 100% (9/9), done.\u001B[K\r\n",
      "remote: Total 14 (delta 2), reused 13 (delta 1), pack-reused 0\u001B[K\r\n",
      "Receiving objects: 100% (14/14), done.\r\n",
      "Resolving deltas: 100% (2/2), done.\r\n"
     ]
    }
   ],
   "source": [
    "!git clone https://github.com/MagicalMadoka/siamese-pytorch.git"
   ],
   "metadata": {
    "collapsed": false,
    "ExecuteTime": {
     "end_time": "2023-11-12T11:25:36.407596Z",
     "start_time": "2023-11-12T11:25:34.925917Z"
    }
   },
   "id": "7ef2c3b94a3f1bbd"
  },
  {
   "cell_type": "markdown",
   "source": [
    "切换目录"
   ],
   "metadata": {
    "collapsed": false
   },
   "id": "ccc29f3ba06ce2d9"
  },
  {
   "cell_type": "code",
   "execution_count": 2,
   "outputs": [],
   "source": [
    "import os\n",
    "\n",
    "os.chdir(\"siamese-pytorch\")"
   ],
   "metadata": {
    "collapsed": false,
    "ExecuteTime": {
     "end_time": "2023-11-12T11:25:36.423508Z",
     "start_time": "2023-11-12T11:25:36.402162Z"
    }
   },
   "id": "6df2a9e93b11495"
  },
  {
   "cell_type": "markdown",
   "source": [
    "安装依赖"
   ],
   "metadata": {
    "collapsed": false
   },
   "id": "57a800948b2759ec"
  },
  {
   "cell_type": "code",
   "execution_count": 3,
   "outputs": [
    {
     "name": "stdout",
     "output_type": "stream",
     "text": [
      "Requirement already satisfied: torch~=2.1.0 in /Users/lmikoto/workspace/madoka/siamese-pytorch/venv/lib/python3.10/site-packages (from -r requirements.txt (line 1)) (2.1.0)\r\n",
      "Requirement already satisfied: torchvision~=0.16.0 in /Users/lmikoto/workspace/madoka/siamese-pytorch/venv/lib/python3.10/site-packages (from -r requirements.txt (line 2)) (0.16.0)\r\n",
      "Requirement already satisfied: filelock in /Users/lmikoto/workspace/madoka/siamese-pytorch/venv/lib/python3.10/site-packages (from torch~=2.1.0->-r requirements.txt (line 1)) (3.13.1)\r\n",
      "Requirement already satisfied: jinja2 in /Users/lmikoto/workspace/madoka/siamese-pytorch/venv/lib/python3.10/site-packages (from torch~=2.1.0->-r requirements.txt (line 1)) (3.1.2)\r\n",
      "Requirement already satisfied: fsspec in /Users/lmikoto/workspace/madoka/siamese-pytorch/venv/lib/python3.10/site-packages (from torch~=2.1.0->-r requirements.txt (line 1)) (2023.10.0)\r\n",
      "Requirement already satisfied: sympy in /Users/lmikoto/workspace/madoka/siamese-pytorch/venv/lib/python3.10/site-packages (from torch~=2.1.0->-r requirements.txt (line 1)) (1.12)\r\n",
      "Requirement already satisfied: typing-extensions in /Users/lmikoto/workspace/madoka/siamese-pytorch/venv/lib/python3.10/site-packages (from torch~=2.1.0->-r requirements.txt (line 1)) (4.8.0)\r\n",
      "Requirement already satisfied: networkx in /Users/lmikoto/workspace/madoka/siamese-pytorch/venv/lib/python3.10/site-packages (from torch~=2.1.0->-r requirements.txt (line 1)) (3.2.1)\r\n",
      "Requirement already satisfied: requests in /Users/lmikoto/workspace/madoka/siamese-pytorch/venv/lib/python3.10/site-packages (from torchvision~=0.16.0->-r requirements.txt (line 2)) (2.31.0)\r\n",
      "Requirement already satisfied: numpy in /Users/lmikoto/workspace/madoka/siamese-pytorch/venv/lib/python3.10/site-packages (from torchvision~=0.16.0->-r requirements.txt (line 2)) (1.26.1)\r\n",
      "Requirement already satisfied: pillow!=8.3.*,>=5.3.0 in /Users/lmikoto/workspace/madoka/siamese-pytorch/venv/lib/python3.10/site-packages (from torchvision~=0.16.0->-r requirements.txt (line 2)) (10.1.0)\r\n",
      "Requirement already satisfied: MarkupSafe>=2.0 in /Users/lmikoto/workspace/madoka/siamese-pytorch/venv/lib/python3.10/site-packages (from jinja2->torch~=2.1.0->-r requirements.txt (line 1)) (2.1.3)\r\n",
      "Requirement already satisfied: charset-normalizer<4,>=2 in /Users/lmikoto/workspace/madoka/siamese-pytorch/venv/lib/python3.10/site-packages (from requests->torchvision~=0.16.0->-r requirements.txt (line 2)) (3.3.2)\r\n",
      "Requirement already satisfied: certifi>=2017.4.17 in /Users/lmikoto/workspace/madoka/siamese-pytorch/venv/lib/python3.10/site-packages (from requests->torchvision~=0.16.0->-r requirements.txt (line 2)) (2023.7.22)\r\n",
      "Requirement already satisfied: urllib3<3,>=1.21.1 in /Users/lmikoto/workspace/madoka/siamese-pytorch/venv/lib/python3.10/site-packages (from requests->torchvision~=0.16.0->-r requirements.txt (line 2)) (2.0.7)\r\n",
      "Requirement already satisfied: idna<4,>=2.5 in /Users/lmikoto/workspace/madoka/siamese-pytorch/venv/lib/python3.10/site-packages (from requests->torchvision~=0.16.0->-r requirements.txt (line 2)) (3.4)\r\n",
      "Requirement already satisfied: mpmath>=0.19 in /Users/lmikoto/workspace/madoka/siamese-pytorch/venv/lib/python3.10/site-packages (from sympy->torch~=2.1.0->-r requirements.txt (line 1)) (1.3.0)\r\n",
      "\r\n",
      "\u001B[1m[\u001B[0m\u001B[34;49mnotice\u001B[0m\u001B[1;39;49m]\u001B[0m\u001B[39;49m A new release of pip available: \u001B[0m\u001B[31;49m22.3.1\u001B[0m\u001B[39;49m -> \u001B[0m\u001B[32;49m23.3.1\u001B[0m\r\n",
      "\u001B[1m[\u001B[0m\u001B[34;49mnotice\u001B[0m\u001B[1;39;49m]\u001B[0m\u001B[39;49m To update, run: \u001B[0m\u001B[32;49mpip install --upgrade pip\u001B[0m\r\n"
     ]
    }
   ],
   "source": [
    "!pip install -r requirements.txt"
   ],
   "metadata": {
    "collapsed": false,
    "ExecuteTime": {
     "end_time": "2023-11-12T11:25:39.039406Z",
     "start_time": "2023-11-12T11:25:36.415863Z"
    }
   },
   "id": "ea6326686f5e5e2b"
  },
  {
   "cell_type": "markdown",
   "source": [
    "进行训练"
   ],
   "metadata": {
    "collapsed": false
   },
   "id": "3700f15a34b8f820"
  },
  {
   "cell_type": "code",
   "execution_count": 4,
   "outputs": [
    {
     "name": "stdout",
     "output_type": "stream",
     "text": [
      "Downloading https://www.cs.toronto.edu/~kriz/cifar-10-python.tar.gz to ./data/cifar-10-python.tar.gz\r\n",
      "100%|███████████████████████| 170498071/170498071 [00:16<00:00, 10165496.20it/s]\r\n",
      "Extracting ./data/cifar-10-python.tar.gz to ./data\r\n",
      "/Users/lmikoto/workspace/madoka/siamese-pytorch/venv/lib/python3.10/site-packages/torchvision/models/_utils.py:208: UserWarning: The parameter 'pretrained' is deprecated since 0.13 and may be removed in the future, please use 'weights' instead.\r\n",
      "  warnings.warn(\r\n",
      "/Users/lmikoto/workspace/madoka/siamese-pytorch/venv/lib/python3.10/site-packages/torchvision/models/_utils.py:223: UserWarning: Arguments other than a weight enum or `None` for 'weights' are deprecated since 0.13 and may be removed in the future. The current behavior is equivalent to passing `weights=VGG16_Weights.IMAGENET1K_V1`. You can also use `weights=VGG16_Weights.DEFAULT` to get the most up-to-date weights.\r\n",
      "  warnings.warn(msg)\r\n",
      "Epoch [1/300]:   1%|▏                          | 9/1563 [00:14<39:17,  1.52s/it]^C\r\n"
     ]
    }
   ],
   "source": [
    "!python main.py"
   ],
   "metadata": {
    "collapsed": false,
    "ExecuteTime": {
     "end_time": "2023-11-12T11:26:25.016815Z",
     "start_time": "2023-11-12T11:25:39.042396Z"
    }
   },
   "id": "679230db8c0e263"
  }
 ],
 "metadata": {
  "kernelspec": {
   "display_name": "Python 3",
   "language": "python",
   "name": "python3"
  },
  "language_info": {
   "codemirror_mode": {
    "name": "ipython",
    "version": 2
   },
   "file_extension": ".py",
   "mimetype": "text/x-python",
   "name": "python",
   "nbconvert_exporter": "python",
   "pygments_lexer": "ipython2",
   "version": "2.7.6"
  }
 },
 "nbformat": 4,
 "nbformat_minor": 5
}
